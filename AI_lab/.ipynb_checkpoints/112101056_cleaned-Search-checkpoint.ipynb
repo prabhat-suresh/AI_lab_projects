{
 "cells": [
  {
   "cell_type": "markdown",
   "metadata": {
    "id": "qoGrhnTMt6hc"
   },
   "source": [
    "\n",
    "**Assignment 3: Search (Given: 14 Feb 2023, Due: 7 Mar 2023)**\n",
    "    "
   ]
  },
  {
   "cell_type": "markdown",
   "metadata": {
    "id": "e9Dkk-gKrLwY"
   },
   "source": [
    "**General instructions**\n",
    "\n",
    "* Solutions are to be typed in the `.ipynb` file provided and uploaded in the lab course page in Moodle on the due date. \n",
    "* Your code should be well commented and should be compatible with python3.\n",
    "* For this assignment, you are allowed to import the libraries `random` and `queue` of python3. No other libraries may be imported.\n"
   ]
  },
  {
   "cell_type": "markdown",
   "metadata": {
    "id": "uQd1oq30q7GO"
   },
   "source": [
    "# Generate Maze\n"
   ]
  },
  {
   "cell_type": "markdown",
   "metadata": {
    "id": "CcwnP_QhrbBq"
   },
   "source": [
    "A maze can be visualized as an arrangement of cells in a rectangular $m \\times m$ grid with walls between some pairs of cells. "
   ]
  },
  {
   "cell_type": "markdown",
   "metadata": {
    "id": "C9_cye-yhXgx"
   },
   "source": [
    "(a)  Write a program that uses randomized depth-first search to generate a maze. The randomized depth-first search procedure is as follows: Starting from a given cell (say (0,0)), this algorithm produces a path that visits each cell in the grid according to the following recursive procedure.\n",
    "- If the current cell $C$ has a neighbouring cell that is not yet visited, chose one of such cells (say $C'$) at random and remove the wall between these two cells. Repeat with $C'$ as the current cell.\n",
    "- If all neighbouring cells of the current cell $C$ are already visited, then backtrack to the last cell $\\widehat{C}$ with a neighbouring cell $\\widehat{C}'$ that is not yet visited and repeat with $\\widehat{C}'$ as the current cell.\n",
    "\n",
    "A sample output of a $3\\times 3$ maze is along with the graph adjacency representation is as shown below. The bottom left corner of the maze is $(0,0)$ and top right corner of the maze is $(2,2)$."
   ]
  },
  {
   "cell_type": "code",
   "execution_count": 11,
   "metadata": {
    "colab": {
     "background_save": true,
     "base_uri": "https://localhost:8080/"
    },
    "executionInfo": {
     "elapsed": 4,
     "status": "ok",
     "timestamp": 1671945550678,
     "user": {
      "displayName": "Krithika Ramaswamy",
      "userId": "14924970736913550978"
     },
     "user_tz": -330
    },
    "id": "jjnZVUNPqFYl",
    "outputId": "3e39003a-2c58-498a-abb6-fe108e5abc3e"
   },
   "outputs": [
    {
     "name": "stdout",
     "output_type": "stream",
     "text": [
      "Node  (0, 0)  :  [(0, 1)]\n",
      "Node  (0, 1)  :  [(0, 0), (1, 1)]\n",
      "Node  (0, 2)  :  [(1, 2)]\n",
      "Node  (1, 0)  :  [(2, 0)]\n",
      "Node  (1, 1)  :  [(0, 1), (2, 1)]\n",
      "Node  (1, 2)  :  [(2, 2), (0, 2)]\n",
      "Node  (2, 0)  :  [(2, 1), (1, 0)]\n",
      "Node  (2, 1)  :  [(1, 1), (2, 2), (2, 0)]\n",
      "Node  (2, 2)  :  [(2, 1), (1, 2)]\n"
     ]
    }
   ],
   "source": [
    "import random\n",
    "\n",
    "# class Node:\n",
    "#     def __init__(self, neighbour=None):\n",
    "#         self.neighbour = neighbour\n",
    "#         self.next = None\n",
    "\n",
    "def explore(M,m,i,j,parent=None):\n",
    "    if 0<=i and 0<=j and i<m and j<m and not M[i][j]:\n",
    "        if parent:\n",
    "            M[i][j].append(parent)\n",
    "            M[parent[0]][parent[1]].append((i,j))\n",
    "#             M[i][j].neighbour=parent\n",
    "#             M[i][j].next=Node()\n",
    "#             node=M[parent[0]][parent[1]]\n",
    "#             while(node.neighbour):\n",
    "#                 node=node.next\n",
    "#             node.neighbour=tuple([i,j])\n",
    "#             node.next=Node()\n",
    "        arr=[(i+1,j),(i,j+1), (i-1,j), (i,j-1)]\n",
    "        while arr:\n",
    "            z=random.choice(arr)\n",
    "            explore(M,m,z[0],z[1],(i,j))\n",
    "#             arr=list(tup)\n",
    "            arr.remove(z)\n",
    "#             tup=tuple(arr)\n",
    "        \n",
    "def create_maze(m):\n",
    "    M=[]\n",
    "    for i in range(m):\n",
    "        l=[]\n",
    "        for j in range(m):\n",
    "            l.append([])\n",
    "        M.append(l)\n",
    "    explore(M,m,0,0)\n",
    "    return M\n",
    "       \n",
    "def print_matrix(M,m):\n",
    "    for i in range(m):\n",
    "        for j in range(m):\n",
    "            print(\"Node \",(i,j),\" : \",M[i][j])\n",
    "#             node=M[i][j]\n",
    "#             print(\"Node \",(i,j),\" : \",node.neighbour)\n",
    "#             while(node.neighbour):\n",
    "#                 node=node.next\n",
    "#                 print(node.neighbour)\n",
    "            \n",
    "M=create_maze(3)\n",
    "print_matrix(M,3)"
   ]
  },
  {
   "cell_type": "markdown",
   "metadata": {
    "id": "UWBLCXf8QO6C"
   },
   "source": [
    "(b)  Write a program to do DFS on a $m \\times m$ maze given in adjacency representation to find a route from the source cell $(0,0)$ to the destination cell $(m-1,m-1)$. Output the route and the number of cells explored."
   ]
  },
  {
   "cell_type": "code",
   "execution_count": 30,
   "metadata": {},
   "outputs": [
    {
     "name": "stdout",
     "output_type": "stream",
     "text": [
      "Node  (0, 0)  :  [(1, 0), True]\n",
      "Node  (0, 1)  :  [(0, 2), True]\n",
      "Node  (0, 2)  :  [(1, 2), (0, 1), True]\n",
      "Node  (1, 0)  :  [(0, 0), (2, 0), True]\n",
      "Node  (1, 1)  :  [(2, 1), (1, 2), True]\n",
      "Node  (1, 2)  :  [(1, 1), (0, 2), (2, 2), True]\n",
      "Node  (2, 0)  :  [(1, 0), (2, 1), True]\n",
      "Node  (2, 1)  :  [(2, 0), (1, 1), True]\n",
      "Node  (2, 2)  :  [(1, 2), True]\n",
      "[(0, 0), (1, 0), (2, 0), (2, 1), (1, 1), (1, 2), (2, 2)]\n",
      "[9]\n"
     ]
    }
   ],
   "source": [
    "import random\n",
    "\n",
    "def explore(M,m,i,j,parent=None):\n",
    "    if 0<=i and 0<=j and i<m and j<m and not M[i][j]:\n",
    "        if parent:\n",
    "            M[i][j].append(parent)\n",
    "            M[parent[0]][parent[1]].append((i,j))\n",
    "\n",
    "        arr=[(i+1,j),(i,j+1), (i-1,j), (i,j-1)]\n",
    "        while arr:\n",
    "            z=random.choice(arr)\n",
    "            explore(M,m,z[0],z[1],(i,j))\n",
    "            arr.remove(z)\n",
    "        \n",
    "def create_maze(m):\n",
    "    M=[]\n",
    "    for i in range(m):\n",
    "        l=[]\n",
    "        for j in range(m):\n",
    "            l.append([])\n",
    "        M.append(l)\n",
    "    explore(M,m,0,0)\n",
    "    return M\n",
    "\n",
    "def dfs(M,m,i,j,route,num_cells):\n",
    "    M[i][j][-1]=False\n",
    "    num_cells[0]+=1\n",
    "    if i==m-1 and j==m-1:\n",
    "        route.append((i,j))\n",
    "        return True\n",
    "    else:\n",
    "        for k in M[i][j]:\n",
    "            if not k==M[i][j][-1] and M[k[0]][k[1]][-1]:\n",
    "                if(dfs(M,m,k[0],k[1],route,num_cells)):\n",
    "                    route.append((i,j))\n",
    "                    return True\n",
    "        return False\n",
    "\n",
    "m=3\n",
    "M=create_maze(m)\n",
    "num_cells=[0]\n",
    "route=[]\n",
    "for i in range(m):\n",
    "    for j in range(m):\n",
    "        M[i][j].append(True)\n",
    "print_matrix(M,m)\n",
    "\n",
    "dfs(M,m,0,0,route,num_cells)\n",
    "route.reverse()\n",
    "print(route)\n",
    "print(num_cells)"
   ]
  },
  {
   "cell_type": "markdown",
   "metadata": {
    "id": "EVPSNFtTQO6D"
   },
   "source": [
    "(c)  Write a program to do BFS on a $m \\times m$ maze given in adjacency representation to find a route from the source cell $(0,0)$ to the destination cell $(m-1,m-1)$. Output the route and the number of cells explored."
   ]
  },
  {
   "cell_type": "code",
   "execution_count": 3,
   "metadata": {},
   "outputs": [
    {
     "name": "stdout",
     "output_type": "stream",
     "text": [
      "[(0, 0), (0, 1), (1, 1), (2, 1), (2, 2)]\n",
      "[6]\n"
     ]
    }
   ],
   "source": [
    "import random\n",
    "from collections import deque\n",
    "\n",
    "def explore(M,m,i,j,parent=None):\n",
    "    if 0<=i and 0<=j and i<m and j<m and not M[i][j]:\n",
    "        if parent:\n",
    "            M[i][j].append(parent)\n",
    "            M[parent[0]][parent[1]].append((i,j))\n",
    "\n",
    "        arr=[(i+1,j),(i,j+1), (i-1,j), (i,j-1)]\n",
    "        while arr:\n",
    "            z=random.choice(arr)\n",
    "            explore(M,m,z[0],z[1],(i,j))\n",
    "            arr.remove(z)\n",
    "        \n",
    "def create_maze(m):\n",
    "    M=[]\n",
    "    for i in range(m):\n",
    "        l=[]\n",
    "        for j in range(m):\n",
    "            l.append([])\n",
    "        M.append(l)\n",
    "    explore(M,m,0,0)\n",
    "    return M\n",
    "\n",
    "def bfs(M,m,i,j,route,num_cells):\n",
    "    q=deque()\n",
    "    q.append((0,0))\n",
    "    while(q):\n",
    "        r=q.popleft()\n",
    "        i=r[0]\n",
    "        j=r[1]\n",
    "        num_cells[0]+=1\n",
    "        if i==m-1 and j==m-1:\n",
    "            break\n",
    "        for node in M[i][j]:\n",
    "            if not node==M[i][j][-1] and not M[node[0]][node[1]][-1]:\n",
    "                M[node[0]][node[1]][-1]=r\n",
    "                q.append(node)\n",
    "    temp=route[0]\n",
    "    while M[temp[0]][temp[1]][-1]:\n",
    "        route.append(M[temp[0]][temp[1]][-1])\n",
    "        temp=route[-1]\n",
    "    \n",
    "m=3\n",
    "M=create_maze(m)\n",
    "num_cells=[0]\n",
    "route=[(m-1,m-1)]\n",
    "for i in range(m):\n",
    "    for j in range(m):\n",
    "        M[i][j].append(None)\n",
    "# print_matrix(M,m)\n",
    "bfs(M,m,0,0,route,num_cells)\n",
    "route.reverse()\n",
    "print(route)\n",
    "print(num_cells)"
   ]
  },
  {
   "cell_type": "markdown",
   "metadata": {
    "id": "VhR0FVXOuVLx"
   },
   "source": [
    "(d)  Write a program to do A$^*$ search on a $m \\times m$ maze given in adjacency representation to find a route from the source cell $(0,0)$ to the destination cell $(m-1,m-1)$. Use the Manhattan heuristic for A$^*$ search. The Manhattan distance between two cells of the maze $(i,j)$ and $(k,\\ell)$ where $i,j,k,\\ell \\in \\{0,1\\ldots, m-1\\}$ is $|i-k| + | j-\\ell|$. Output the route and the number of cells explored."
   ]
  },
  {
   "cell_type": "code",
   "execution_count": 16,
   "metadata": {},
   "outputs": [
    {
     "ename": "KeyboardInterrupt",
     "evalue": "",
     "output_type": "error",
     "traceback": [
      "\u001b[0;31m---------------------------------------------------------------------------\u001b[0m",
      "\u001b[0;31mKeyboardInterrupt\u001b[0m                         Traceback (most recent call last)",
      "Cell \u001b[0;32mIn[16], line 57\u001b[0m\n\u001b[1;32m     55\u001b[0m         M[i][j]\u001b[38;5;241m.\u001b[39mappend([\u001b[38;5;28;01mNone\u001b[39;00m,\u001b[38;5;241m0\u001b[39m])\n\u001b[1;32m     56\u001b[0m \u001b[38;5;66;03m# print_matrix(M,m)\u001b[39;00m\n\u001b[0;32m---> 57\u001b[0m \u001b[43mA_star\u001b[49m\u001b[43m(\u001b[49m\u001b[43mM\u001b[49m\u001b[43m,\u001b[49m\u001b[43mm\u001b[49m\u001b[43m,\u001b[49m\u001b[38;5;241;43m0\u001b[39;49m\u001b[43m,\u001b[49m\u001b[38;5;241;43m0\u001b[39;49m\u001b[43m,\u001b[49m\u001b[43mroute\u001b[49m\u001b[43m,\u001b[49m\u001b[43mnum_cells\u001b[49m\u001b[43m)\u001b[49m\n\u001b[1;32m     58\u001b[0m route\u001b[38;5;241m.\u001b[39mreverse()\n\u001b[1;32m     59\u001b[0m \u001b[38;5;28mprint\u001b[39m(route)\n",
      "Cell \u001b[0;32mIn[16], line 45\u001b[0m, in \u001b[0;36mA_star\u001b[0;34m(M, m, i, j, route, num_cells)\u001b[0m\n\u001b[1;32m     43\u001b[0m             q\u001b[38;5;241m.\u001b[39mput((manhattan(node[\u001b[38;5;241m0\u001b[39m],node[\u001b[38;5;241m1\u001b[39m],m)\u001b[38;5;241m+\u001b[39mM[node[\u001b[38;5;241m0\u001b[39m]][node[\u001b[38;5;241m1\u001b[39m]][\u001b[38;5;241m-\u001b[39m\u001b[38;5;241m1\u001b[39m][\u001b[38;5;241m1\u001b[39m],node))\n\u001b[1;32m     44\u001b[0m temp\u001b[38;5;241m=\u001b[39mroute[\u001b[38;5;241m0\u001b[39m]\n\u001b[0;32m---> 45\u001b[0m \u001b[38;5;28;01mwhile\u001b[39;00m M[temp[\u001b[38;5;241m0\u001b[39m]][temp[\u001b[38;5;241m1\u001b[39m]][\u001b[38;5;241m-\u001b[39m\u001b[38;5;241m1\u001b[39m][\u001b[38;5;241m0\u001b[39m]:\n\u001b[1;32m     46\u001b[0m     route\u001b[38;5;241m.\u001b[39mappend(M[temp[\u001b[38;5;241m0\u001b[39m]][temp[\u001b[38;5;241m1\u001b[39m]][\u001b[38;5;241m-\u001b[39m\u001b[38;5;241m1\u001b[39m][\u001b[38;5;241m0\u001b[39m])\n\u001b[1;32m     47\u001b[0m     temp\u001b[38;5;241m=\u001b[39mroute[\u001b[38;5;241m-\u001b[39m\u001b[38;5;241m1\u001b[39m]\n",
      "\u001b[0;31mKeyboardInterrupt\u001b[0m: "
     ]
    }
   ],
   "source": [
    "from queue import PriorityQueue\n",
    "import random\n",
    "\n",
    "def explore(M,m,i,j,parent=None):\n",
    "    if 0<=i and 0<=j and i<m and j<m and not M[i][j]:\n",
    "        if parent:\n",
    "            M[i][j].append(parent)\n",
    "            M[parent[0]][parent[1]].append((i,j))\n",
    "\n",
    "        arr=[(i+1,j),(i,j+1), (i-1,j), (i,j-1)]\n",
    "        while arr:\n",
    "            z=random.choice(arr)\n",
    "            explore(M,m,z[0],z[1],(i,j))\n",
    "            arr.remove(z)\n",
    "        \n",
    "def create_maze(m):\n",
    "    M=[]\n",
    "    for i in range(m):\n",
    "        l=[]\n",
    "        for j in range(m):\n",
    "            l.append([])\n",
    "        M.append(l)\n",
    "    explore(M,m,0,0)\n",
    "    return M\n",
    "\n",
    "def manhattan(i,j,m):\n",
    "    return 2*m-2-i-j\n",
    "\n",
    "def A_star(M,m,i,j,route,num_cells):\n",
    "    q = PriorityQueue()\n",
    "    q.put((manhattan(0,0,m),(0,0)))\n",
    "    while(not q.empty()):\n",
    "        r=q.get()\n",
    "        i=r[1][0]\n",
    "        j=r[1][1]\n",
    "        num_cells[0]+=1\n",
    "        if i==m-1 and j==m-1:\n",
    "            break\n",
    "        for node in M[i][j]:\n",
    "            if not node==M[i][j][-1] and not M[node[0]][node[1]][-1][0]:\n",
    "                M[node[0]][node[1]][-1][0]=r[1]\n",
    "                M[node[0]][node[1]][-1][1]=M[i][j][-1][1]+1\n",
    "                q.put((manhattan(node[0],node[1],m)+M[node[0]][node[1]][-1][1],node))\n",
    "    temp=route[0]\n",
    "    while M[temp[0]][temp[1]][-1][0]:\n",
    "        route.append(M[temp[0]][temp[1]][-1][0])\n",
    "        temp=route[-1]\n",
    "    \n",
    "m=3\n",
    "M=create_maze(m)\n",
    "num_cells=[0]\n",
    "route=[(m-1,m-1)]\n",
    "for i in range(m):\n",
    "    for j in range(m):\n",
    "        M[i][j].append([None,0])\n",
    "# print_matrix(M,m)\n",
    "A_star(M,m,0,0,route,num_cells)\n",
    "route.reverse()\n",
    "print(route)\n",
    "print(num_cells)"
   ]
  },
  {
   "cell_type": "markdown",
   "metadata": {
    "id": "W1OuwVhrrsbi"
   },
   "source": [
    "# Sliding Blocks"
   ]
  },
  {
   "cell_type": "markdown",
   "metadata": {
    "id": "zTbeis7oh_6I"
   },
   "source": [
    "Consider the sliding blocks puzzle where we are given a $3 \\times 3$ grid of blocks with each block containing a unique integer between 0 and 8. An example configuration is given below.\n",
    "\n",
    "1 2 3\n",
    "\n",
    "7 8 5\n",
    "\n",
    "0 6 4\n",
    "\n",
    "At each step, the block containing 0 can swap places with an adjacent block. \n"
   ]
  },
  {
   "cell_type": "markdown",
   "metadata": {
    "id": "S6LU3dYFr3_9"
   },
   "source": [
    "(a)  Use A$^*$ search to start from any given initial configuration and reach the  goal configuration \n",
    "\n",
    " 1 2 3\n",
    "\n",
    " 4 5 6\n",
    "\n",
    " 7 8 0\n",
    "\n",
    "with the sum of Manhattan distances of the blocks from their goal positions as the heuristic. The Manhattan distance of a pair of blocks occupying the integer $n$ at the locations $(i,p)$ and $(j,q)$ (where $i,j,p,q \\in \\{0,\\ldots, 8\\}$ and $n \\in \\{0,\\ldots,8 \\}$) is given by $ |i-j| + |p-q|$. Print the total number of steps taken to reach the goal and the blocks configuration at each step. "
   ]
  },
  {
   "cell_type": "markdown",
   "metadata": {
    "id": "xcPPjAB-im2f"
   },
   "source": [
    "(b) Repeat part (a) with the following alternative heurisitics.\n",
    "1. the number of misplaced blocks \n",
    "2. the Manhattan distance of the \"0\" block alone instead of the sum\n",
    "\n",
    "Compare the performance of the three heuristics using the size of the explored list as the measure. "
   ]
  }
 ],
 "metadata": {
  "colab": {
   "provenance": []
  },
  "kernelspec": {
   "display_name": "Python 3 (ipykernel)",
   "language": "python",
   "name": "python3"
  },
  "language_info": {
   "codemirror_mode": {
    "name": "ipython",
    "version": 3
   },
   "file_extension": ".py",
   "mimetype": "text/x-python",
   "name": "python",
   "nbconvert_exporter": "python",
   "pygments_lexer": "ipython3",
   "version": "3.10.9"
  }
 },
 "nbformat": 4,
 "nbformat_minor": 1
}
